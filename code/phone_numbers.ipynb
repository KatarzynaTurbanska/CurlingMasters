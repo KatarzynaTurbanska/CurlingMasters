{
 "cells": [
  {
   "cell_type": "code",
   "execution_count": 1,
   "metadata": {},
   "outputs": [],
   "source": [
    "import numpy as np"
   ]
  },
  {
   "cell_type": "code",
   "execution_count": 2,
   "metadata": {},
   "outputs": [],
   "source": [
    "area_codes = {\"Calgary\": [403, 587, 825], \"Vancouver\": [236, 604, 672, 778], \"Toronto\": [416, 437, 647], \"Ottawa\": [343, 613], \"Montreal\": [438, 514]}\n",
    "number_part2 = np.arange(0, 1000)\n",
    "number_part3 = np.arange(0, 10000)"
   ]
  },
  {
   "cell_type": "code",
   "execution_count": 3,
   "metadata": {},
   "outputs": [],
   "source": [
    "def phone_number(city):\n",
    "    p1 = str(np.random.choice(area_codes[city]))\n",
    "    p2 = str(np.random.choice(number_part2)).zfill(3)\n",
    "    p3 = str(np.random.choice(number_part3)).zfill(4)\n",
    "    return \"({}) {}-{}\".format(p1,p2,p3)"
   ]
  },
  {
   "cell_type": "code",
   "execution_count": 4,
   "metadata": {},
   "outputs": [
    {
     "data": {
      "text/plain": [
       "'(587) 215-1741'"
      ]
     },
     "execution_count": 4,
     "metadata": {},
     "output_type": "execute_result"
    }
   ],
   "source": [
    "phone_number(\"Calgary\")"
   ]
  }
 ],
 "metadata": {
  "interpreter": {
   "hash": "390a474573512b40ef03ec13ac0aa875e15e62e27560c3d9cfbc40cb2890ab6d"
  },
  "kernelspec": {
   "display_name": "Python 3.7.4 32-bit",
   "language": "python",
   "name": "python3"
  },
  "language_info": {
   "codemirror_mode": {
    "name": "ipython",
    "version": 3
   },
   "file_extension": ".py",
   "mimetype": "text/x-python",
   "name": "python",
   "nbconvert_exporter": "python",
   "pygments_lexer": "ipython3",
   "version": "3.7.4"
  },
  "orig_nbformat": 4
 },
 "nbformat": 4,
 "nbformat_minor": 2
}
