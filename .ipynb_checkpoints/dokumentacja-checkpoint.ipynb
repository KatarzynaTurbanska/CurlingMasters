{
 "cells": [
  {
   "cell_type": "code",
   "execution_count": 2,
   "metadata": {},
   "outputs": [],
   "source": [
    "import pandoc"
   ]
  },
  {
   "cell_type": "markdown",
   "metadata": {},
   "source": [
    "### Spis użytych technologii:\n",
    "* Python,\n",
    "* Jupyter Notebook,\n",
    "* MySQL."
   ]
  },
  {
   "cell_type": "markdown",
   "metadata": {},
   "source": [
    "### Używane biblioteki w Pythonie:\n",
    "* math,\n",
    "* numpy,\n",
    "* faker,\n",
    "* pandas,\n",
    "* random,\n",
    "* calendar,\n",
    "* dateutil.relativedelta,\n",
    "* mysql.connector."
   ]
  },
  {
   "cell_type": "markdown",
   "metadata": {},
   "source": [
    "### Potrzebne pliki csv oraz co zawierają:\n",
    "* last_names.csv – rzeczywiste kandayjskie nazwiska,\n",
    "* names_female.csv – rzeczywiste kanadyjskie damskie imiona,\n",
    "* names_male.csv – rzeczywiste kanadyjskie męskie imiona,\n",
    "* streets_calgary.csv – rzeczywiste ulice w Calgary,\n",
    "* streets_montreal.csv – rzeczywiste ulice w Montrealu,\n",
    "* streets_ottawa.csv – rzeczywiste ulice w Ottawie,\n",
    "* streets_toronto.csv – rzeczywiste ulice w Toronto,\n",
    "* streets_vancouver.csv – rzeczywiste ulice w Vancuver,\n",
    "* real_team_names.csv – rzeczywiste nazwy drużyn hokejowych z Kanady."
   ]
  },
  {
   "cell_type": "markdown",
   "metadata": {},
   "source": [
    "### Lista plików z zawartością, w kolejności uruchamiania:\n",
    "\n",
    "1. `gen_team_name.py` – generuje nazwy drużyn naszych i&nbsp;przeciwników. Korzysta z&nbsp;real_team_names.csv. Tworzy home_team_names.csv i&nbsp;opponent_team_names.csv.\n",
    "\n",
    "2. `gen_adressess.py` – dla osób i&nbsp;naszych placówek na podstawie miast generuje cały adres, a&nbsp;dla placówek przeciwników losuje adres za pomocą biblioteki faker. Korzysta z&nbsp;plików streets_calgary.csv, streets_montreal.csv, streets_ottawa.csv, streets_toronto.csv, streets_vancouver.csv. Tworzy addresses_people.csv i&nbsp;addresses_facilities.csv.\n",
    "\n",
    "3. `gen_team_structure.py` – generuje kategorie drużyn, w której placówce się znajdują i&nbsp;ile osbób jest aktywnych w&nbsp;drużynie. Korzysta z&nbsp;plików home_team_names.csv, opponent_team_names.csv i&nbsp;addresses_facilities. Tworzy home_teams_structre_v2, opponent_teams_structure_v2.csv i&nbsp;match_opponents_v1.csv.\n",
    "\n",
    "4. `gen_players_dates.py` – generuje urodziny, datę dołączenia oraz datę odejścia dla graczy, dodatkowo przypisuje im numer placówki oraz kategorię wiekową. Nie korzysta z&nbsp;innych plików. Tworzy active_players_v2.csv i&nbsp;retired_players_v2.csv.\n",
    "\n",
    "5. `connect_players_data.py` – dodaje płeć do graczy i&nbsp;przypisuje ich do drużyn. Korzysta z&nbsp;plików active_players_v2.csv i&nbsp;retired_players_v2.csv. Tworzy full_players_teams_v1.csv.\n",
    "\n",
    "6. `gen_employees.py` – generuje dane dla pracowników dotyczące wszelkich dat, stanowiska pracy oraz placówki w&nbsp;których się znajdują. Nie korzysta z&nbsp;innych plików. Tworzy full_employees_v1.csv.\n",
    "\n",
    "7. `connect_people.py` – łączy dane dotyczące graczy z&nbsp;danymi dotyczącymi pracowników. Korzysta z&nbsp;plików full_players_teams_v1.csv i&nbsp;full_employees_v1.csv. Tworzy full_people.csv.\n",
    "\n",
    "8. `gen_people_name.py` – generuje imiona i&nbsp;nazwiska dla osób. Jeśli mają przypisaną płeć, dobiera odpowiednie imię. Jeśli nie mają przypisanej płci, to najpierw ją losuje. Korzysta z&nbsp;plików names_female.csv, names_male.csv, last_names.csv, full_people.csv. Tworzy people.csv i&nbsp;gender.csv.\n",
    "\n",
    "9. `gen_ranking.py` – generuje skuteczność dla każdej z&nbsp;drużyn. Korzysta z match_opponents_v1.csv. Tworzy match_opponents_v2.csv.\n",
    "\n",
    "10. `connect_addresses.py` – łączy adresy placówek oraz ludzi. Dopisuje do drużyn address_id. Korzysta z&nbsp;plików addresses_facilities.csv, addresses_people.csv, match_opponents_v2.csv. Tworzy match_opponents_v3.csv, addresses.csv.\n",
    "\n",
    "11. `gen_schedule.py` – generuje przyszłe mecze (tylko na przyszły sezon), czyli daty i&nbsp;przeciwników spotkań. Korzysta z&nbsp;match_opponents_v3.csv. Tworzy schedule.csv.\n",
    "\n",
    "12. `gen_matches.py` – generuje przeszłe mecze. Oprócz tych danych co wyżej, geneujre dodatkowo wyniki meczy i pozycje graczy. Korzysta z&nbsp;plików match_opponents_v3.csv i&nbsp;full_people.csv. Tworzy full_matches.csv.\n",
    "\n",
    "13. `gen_position.py` – wyciąga pozycje graczy z&nbsp;każdego z&nbsp;meczu, wygenerowane w poprzednim pliku i&nbsp;zapisuje je do nowego pliku. Korzysta z&nbsp;full_matches.csv. Tworzy postions.csv.\n",
    "\n",
    "14. `connect_matches.py` – łączy przeszłe i&nbsp;przyszłe mecze w jeden plik. Korzysta z plików schedule.csv i&nbsp;full_matches.csv. Tworzy matches.csv.\n",
    "\n",
    "15. `gen_phone_numbers.py` – generowanie numerów telefonów dla każdej osoby. Korzysta z&nbsp;pliku full_people.csv. Tworzy phone_book.csv.\n",
    "\n",
    "16. `gen_salaries.py` – generuje wypłaty dla pracowników. Początkowo tworzy plik pomocniczy reference_salaries.csv ze stałymi wypłatami dla każdej grupy pracowników na przestrzeni lat. Korzysta z&nbsp;pliku full_people.csv. Tworzy salaries.csv.\n",
    "\n",
    "17. `gen_fees.py` – generuje opłaty za członkostwo wpłacone przez każdego gracza. Korzysta z&nbsp;pliku full_people.csv. Tworzy fees.csv.\n",
    "\n",
    "18. `connect_finances.py` – łączy wszystkie przepływy finansowe dla osób. Korzysta z&nbsp;pliku full_people.csv, salaries.csv i&nbsp;fees.csv. Tworzy finances.csv.\n",
    "\n",
    "19. `gen_equipment.py` – generuje dostępny ekwipunek w&nbsp;każdej z&nbsp;placówek. Korzysta z&nbsp;pliku full_people.csv. Tworzy facility.csv.\n",
    "\n",
    "20. `select_needed_data.py` – wybiera i&nbsp;formatuje potrzebne dane do wypełnienia bazy, korzystając z&nbsp;wygenerowanych wcześniej plików. Zapisuje je w&nbsp;folderze final_data."
   ]
  },
  {
   "cell_type": "markdown",
   "metadata": {},
   "source": [
    "### Relacje wraz ze zbiorami zależości.\n",
    "\n",
    "Klucze główne oznaczymy pogrubieniem.\n",
    "\n",
    "* Tabela people: relacja people(<b>person_id</b>, first_name, last_name) ze zbiorem zależności\n",
    "$$\\sum = \\{person\\_id \\to first\\_name, person\\_id \\to last\\_name, first\\_name+last\\_name \\to person\\_id\\}.$$\n",
    "\n",
    "    Id osoby mówi nam o&nbsp;jej imieniu, nazwisku oraz połączeniu obu. Tylko połączenie imienia i&nbsp;nazwiska mówi nam o&nbsp;id osoby, ponieważ zakładamy, że połączenie to jest unikatowe, ale imiona i&nbsp;nazwiska mogą się powtarzać.\n",
    "\n",
    "* Tabela gender: relacja gender(<b>first_name</b>, gender) ze zbiorem zależności\n",
    "$$\\sum = \\{first\\_name \\to gender\\}.$$\n",
    "\n",
    "    Imię jednoznacznie mówi nam o&nbsp;płci. Zakładamy, że nie ma takiego samego imienia dla dwóch płci.\n",
    "\n",
    "* Tabela phone_book: relacja phone_book(<b>person_id</b>, phone) ze zbiorem zależności\n",
    "$$\\sum = \\{person\\_id \\to phone, phone \\to person\\_id\\}.$$\n",
    "\n",
    "    Każda osoba ma unikatowy numer telefonu, dlatego zachodzi wynikanie w&nbsp;obie strony.\n",
    "\n",
    "* Tabela finances: relacja finances(<b>person_id, date</b>, finantial_flow) ze zbiorem zależności\n",
    "$$\\sum = \\{person\\_id+ date \\to finantial\\_flow\\}.$$\n",
    "\n",
    "    Ponieważ osoby dokonują płatności bądź otrzymują wypłaty co miesiąc, to tylko połączenie id osoby i&nbsp;daty mówi nam o&nbsp;wysokości danego przepływu finansowego.\n",
    "\n",
    "* Tabela personal_info: relacja personal_info(<b>person_id</b>, team_name, position, birthdate, join_date, retire_date) ze zbiorem zależności\n",
    "$$\\sum = \\{person\\_id \\to team\\_name, person\\_id \\to position, person\\_id \\to birthdate, person\\_id \\to join\\_date, \\\\\n",
    "person\\_id \\to retire\\_date\\}.$$\n",
    "\n",
    "    Z&nbsp;id osoby jednoznacznie wynikają informacje osobowe. Natomiast żadna z&nbsp;tych informacji nie jest unikatowa, dlatego osobno ani w&nbsp;połączeniu nie pozwalają jednoznacznie zidentyfikować osoby.\n",
    "\n",
    "* Tabela address_book: relacja address_book(<b>address_id</b>, city, street, street_number) ze zbiorem zależności\n",
    "$$\\sum = \\{address\\_id \\to city, address\\_id \\to street, address\\_id \\to street\\_number\\}.$$\n",
    "\n",
    "    Z&nbsp;id adresu wynikają miasto, ulica oraz numer domu. Jednak zakładamy, że połączenie tych trzech informacji nie musi być unikatowe - dopuszczamy współlokatorów/rodzinę.\n",
    "\n",
    "* Tabela addresses: relacja addresses(<b>person_id</b>, address_id) ze zbiorem zależności\n",
    "$$\\sum = \\{person\\_id \\to address\\_id, address\\_id \\to person\\_id\\}.$$\n",
    "\n",
    "    Zarówno id osoby jak i&nbsp;id adresu są unikatowe.\n",
    "\n",
    "* Tabela facility: relacja facility(<b>facility_id</b>, address_id) ze zbiorem zależności\n",
    "$$\\sum = \\{facility\\_id \\to address\\_id, address\\_id \\to facility\\_id\\}.$$\n",
    "\n",
    "    Zakładamy, że pod danym adresem znajduje się tylko jedna placówka oraz każda placówka ma tylko jeden adres.\n",
    "\n",
    "* Tabela equipment: relacja equipment(<b>facility_id</b>, brooms, stones, shoes) ze zbiorem zależności\n",
    "$$\\sum = \\{facility\\_id \\to brooms, facility\\_id \\to stones, facility\\_id \\to shoes\\}.$$\n",
    "\n",
    "    Każda placówka ma określony ekwipunek. Logiczne że zawartość schowka w każdej placówce niczego nie implikuje.\n",
    "\n",
    "* Tabela teams: relacja teams(<b>team_name</b>, facility_id, age_category, gender_category) ze zbiorem zależności\n",
    "$$\\sum = \\{team\\_name \\to facility\\_id, team\\_name \\to age\\_category, team\\_name  \\to gender\\_category\\}.$$\n",
    "\n",
    "    Każda drużyna przynależy do danej placówki oraz ma określoną kategorię. W placówkach natomiast występują różne drużyny o&nbsp;tych samych kategoriach, dlatego nie możemy nic z tego wywnioskować.\n",
    "\n",
    "* Tabela matches: relacja matches(<b>team_name, date</b>, address_id, team_score, opponent_score, number_of_ends, ends_won) ze zbiorem zależności\n",
    "$$\\sum = \\{tn+date \\to address\\_id, tn+date \\to team\\_score, tn+date \\to opponent\\_score, tn+date \\to number\\_of\\_ends, tn+date \\to ends\\_won\\},$$\n",
    "\n",
    "    gdzie $tn$ – team_name. \n",
    "\n",
    "    Zakładamy, że każdego dnia drużyna może zagrać tylko jeden mecz. Dlatego połączenie nazwy drużyny i&nbsp;daty jednoznacznie określa miejsce i&nbsp;wynik meczu. Natomiast wyniki meczu wraz z&nbsp;adresami nie muszą być unikatowe.\n",
    "\n",
    "* Tabela opponents: relacja opponents(<b>team_name, date</b>, opponent_name) ze zbiorem zależności\n",
    "$$\\sum = \\{team\\_name+date \\to opponent\\_name, opponent\\_name+date \\to team\\_name\\}.$$\n",
    "\n",
    "    Dodatkowo zakładamy, że drużyna przeciwna również może grać tylko jeden mecz dziennie z&nbsp;naszymi drużynami, dlatego z&nbsp;połączenia nazwy naszej drużyny i&nbsp;daty możemy wywnioskować oponentów, a&nbsp;także z połączenia przeciwników i&nbsp;daty - nazwę naszej drużyny.\n",
    "\n",
    "* Tabela positions: relacja positions(<b>person_id, date</b>, position) ze zbiorem zależności\n",
    "$$\\sum = \\{person\\_id+date \\to position\\}.$$\n",
    "\n",
    "    W&nbsp;każdym meczu dana osoba z&nbsp;drużyny może mieć tylko jedną pozycję."
   ]
  },
  {
   "cell_type": "markdown",
   "metadata": {},
   "source": [
    "### Uzasadnienie EKNF.\n",
    "\n",
    "Wszędzie mamy dane atomowe. W&nbsp;każdej tabeli mamy zdefiniowany klucz. Wszystkie atrybuty niekluczowe zależą od całego klucza głównego. Zatem zachodzi 1NF.\n",
    "\n",
    "Żadna kolumna niekluczowa nie jest częściowo funkcyjnie zależna od kluczy kandydujących. Zachodzi więc 2NF.\n",
    "\n",
    "Na podstawie wypisanych relacji, możemy powiedzieć, że żaden atrybut niekluczowy nie jest zależny funkcyjnie od innych atrybutów niekluczowych. Czyli zachodzi 3NF.\n",
    "\n",
    "Ponownie z wypisanych relacji widzimy, że wszystkie zaczynają się od całego klucza głównego albo kończą na elemencie klucza elementarnego. Dodatkowo wszystkie nasze klucze są kluczami elementarnymi, bo atrybuty elementarne kluczy kilkukolumnych nie mają żadnych zależności funkcyjnych z&nbsp;innymi atrubutami. Jedyną problematyczną relacją mogłoby się okazać opponents, jednak obie zależności funkcyjne zaczynają się od całego klucza głównego bądź kończą się na atrubcie klucza głównego. Ostatecznie możemy więc stwierdzić, że nasza baza jest w&nbsp;EKNF."
   ]
  },
  {
   "cell_type": "markdown",
   "metadata": {},
   "source": [
    "### A co było najtrudniejsze? 🤔\n",
    "\n",
    "Najbardziej problematyczna okazała się normalizacja bazy danych do EKNF, ponieważ jest to wysoka postać, do której mało kto doprowadza swoją bazę, przez co ciężko było znaleźć przykłady, algorytm był dość skomplikowany, a&nbsp;sama normalizacja jest mało intuicyjna.\n",
    "\n",
    "Dodatkowo ku naszemu zdziwieniu problemem okazło się również wstawienie gotowych danych do bazy. Nie działała nam komenda `LOAD DATA INFILE`, z&nbsp;której najczęściej korzysta się podczas wprowadzania danych z&nbsp;csv, dlatego musiałyśmy szukać innego rozwiązania. Ostatecznie wykorzystałyśmy Pythona i&nbsp;bibliotekę mysql.connector."
   ]
  }
 ],
 "metadata": {
  "kernelspec": {
   "display_name": "Python 3",
   "language": "python",
   "name": "python3"
  },
  "language_info": {
   "codemirror_mode": {
    "name": "ipython",
    "version": 3
   },
   "file_extension": ".py",
   "mimetype": "text/x-python",
   "name": "python",
   "nbconvert_exporter": "python",
   "pygments_lexer": "ipython3",
   "version": "3.7.4"
  }
 },
 "nbformat": 4,
 "nbformat_minor": 2
}
